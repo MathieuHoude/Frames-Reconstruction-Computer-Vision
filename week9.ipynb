{
 "cells": [
  {
   "cell_type": "code",
   "execution_count": 8,
   "metadata": {},
   "outputs": [
    {
     "name": "stdout",
     "output_type": "stream",
     "text": [
      "Requirement already satisfied: pandas in /home/mathieuhoude/.local/lib/python3.8/site-packages (1.4.3)\n",
      "Requirement already satisfied: pytz>=2020.1 in /home/mathieuhoude/.local/lib/python3.8/site-packages (from pandas) (2022.1)\n",
      "Requirement already satisfied: numpy>=1.18.5; platform_machine != \"aarch64\" and platform_machine != \"arm64\" and python_version < \"3.10\" in /home/mathieuhoude/.local/lib/python3.8/site-packages (from pandas) (1.23.1)\n",
      "Requirement already satisfied: python-dateutil>=2.8.1 in /home/mathieuhoude/.local/lib/python3.8/site-packages (from pandas) (2.8.2)\n",
      "Requirement already satisfied: six>=1.5 in /usr/lib/python3/dist-packages (from python-dateutil>=2.8.1->pandas) (1.14.0)\n",
      "Note: you may need to restart the kernel to use updated packages.\n",
      "Requirement already satisfied: opencv-python in /home/mathieuhoude/.local/lib/python3.8/site-packages (4.6.0.66)\n",
      "Requirement already satisfied: numpy>=1.17.3; python_version >= \"3.8\" in /home/mathieuhoude/.local/lib/python3.8/site-packages (from opencv-python) (1.23.1)\n",
      "Note: you may need to restart the kernel to use updated packages.\n",
      "Collecting pillow\n",
      "  Downloading Pillow-9.2.0-cp38-cp38-manylinux_2_17_x86_64.manylinux2014_x86_64.whl (3.1 MB)\n",
      "\u001b[K     |████████████████████████████████| 3.1 MB 7.1 MB/s eta 0:00:01\n",
      "\u001b[?25hInstalling collected packages: pillow\n",
      "Successfully installed pillow-9.2.0\n",
      "Note: you may need to restart the kernel to use updated packages.\n"
     ]
    }
   ],
   "source": [
    "%pip install pandas\n",
    "%pip install opencv-python\n",
    "%pip install pillow"
   ]
  },
  {
   "cell_type": "code",
   "execution_count": 11,
   "metadata": {},
   "outputs": [],
   "source": [
    "import pandas as pd\n",
    "import cv2\n",
    "import os\n",
    "from PIL import Image\n",
    "\n",
    "base_path = \"/home/mathieuhoude/source/SmartJourneyWeek9/frames/\""
   ]
  },
  {
   "cell_type": "code",
   "execution_count": 18,
   "metadata": {},
   "outputs": [
    {
     "ename": "TypeError",
     "evalue": "unsupported operand type(s) for +: 'float' and 'str'",
     "output_type": "error",
     "traceback": [
      "\u001b[0;31m---------------------------------------------------------------------------\u001b[0m",
      "\u001b[0;31mTypeError\u001b[0m                                 Traceback (most recent call last)",
      "\u001b[1;32m/home/mathieuhoude/source/SmartJourneyWeek9/week9.ipynb Cell 3\u001b[0m in \u001b[0;36m<cell line: 3>\u001b[0;34m()\u001b[0m\n\u001b[1;32m      <a href='vscode-notebook-cell://wsl%2Bubuntu-20.04/home/mathieuhoude/source/SmartJourneyWeek9/week9.ipynb#ch0000001vscode-remote?line=8'>9</a>\u001b[0m     height, width, layers \u001b[39m=\u001b[39m img\u001b[39m.\u001b[39mshape \n\u001b[1;32m     <a href='vscode-notebook-cell://wsl%2Bubuntu-20.04/home/mathieuhoude/source/SmartJourneyWeek9/week9.ipynb#ch0000001vscode-remote?line=9'>10</a>\u001b[0m     images\u001b[39m.\u001b[39mappend(img)\n\u001b[0;32m---> <a href='vscode-notebook-cell://wsl%2Bubuntu-20.04/home/mathieuhoude/source/SmartJourneyWeek9/week9.ipynb#ch0000001vscode-remote?line=10'>11</a>\u001b[0m video \u001b[39m=\u001b[39m cv2\u001b[39m.\u001b[39mVideoWriter(date \u001b[39m+\u001b[39;49m \u001b[39m\"\u001b[39;49m\u001b[39m.avi\u001b[39;49m\u001b[39m\"\u001b[39;49m, \u001b[39m0\u001b[39m, \u001b[39m30\u001b[39m, (width, height)) \n\u001b[1;32m     <a href='vscode-notebook-cell://wsl%2Bubuntu-20.04/home/mathieuhoude/source/SmartJourneyWeek9/week9.ipynb#ch0000001vscode-remote?line=11'>12</a>\u001b[0m \u001b[39mfor\u001b[39;00m image \u001b[39min\u001b[39;00m images:\n\u001b[1;32m     <a href='vscode-notebook-cell://wsl%2Bubuntu-20.04/home/mathieuhoude/source/SmartJourneyWeek9/week9.ipynb#ch0000001vscode-remote?line=12'>13</a>\u001b[0m     video\u001b[39m.\u001b[39mwrite(image)\n",
      "\u001b[0;31mTypeError\u001b[0m: unsupported operand type(s) for +: 'float' and 'str'"
     ]
    }
   ],
   "source": [
    "df = pd.read_csv('./results.csv', index_col=[0])\n",
    "dates = df['date'].unique()\n",
    "for date in dates:\n",
    "    temp_df = df[df['date'] == date]\n",
    "    temp_df = temp_df.sort_values(by='frame')\n",
    "    images = []\n",
    "    for _, row in temp_df.iterrows():\n",
    "        img = cv2.imread(base_path + row['filename'])\n",
    "        height, width, layers = img.shape \n",
    "        images.append(img)\n",
    "    video = cv2.VideoWriter(date + \".avi\", 0, 30, (width, height)) \n",
    "    for image in images:\n",
    "        video.write(image)\n",
    "    cv2.destroyAllWindows() \n",
    "    video.release()"
   ]
  }
 ],
 "metadata": {
  "kernelspec": {
   "display_name": "Python 3.8.10 64-bit",
   "language": "python",
   "name": "python3"
  },
  "language_info": {
   "codemirror_mode": {
    "name": "ipython",
    "version": 3
   },
   "file_extension": ".py",
   "mimetype": "text/x-python",
   "name": "python",
   "nbconvert_exporter": "python",
   "pygments_lexer": "ipython3",
   "version": "3.8.10"
  },
  "orig_nbformat": 4,
  "vscode": {
   "interpreter": {
    "hash": "916dbcbb3f70747c44a77c7bcd40155683ae19c65e1c03b4aa3499c5328201f1"
   }
  }
 },
 "nbformat": 4,
 "nbformat_minor": 2
}

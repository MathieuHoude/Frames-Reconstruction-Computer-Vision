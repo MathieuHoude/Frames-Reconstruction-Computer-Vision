{
 "cells": [
  {
   "cell_type": "code",
   "execution_count": 2,
   "metadata": {},
   "outputs": [],
   "source": [
    "import pandas as pd\n",
    "import cv2\n",
    "import os\n",
    "from PIL import Image\n",
    "\n",
    "base_path = \"/home/mathieuhoude/source/MathieuHoude/SmartJourneyWeek9/frames/\""
   ]
  },
  {
   "cell_type": "code",
   "execution_count": 4,
   "metadata": {},
   "outputs": [],
   "source": [
    "df = pd.read_csv('./results.csv', index_col=[0])\n",
    "# df = df.groupby(['date'])\n",
    "dates = df['date'].unique()\n",
    "for date in dates:\n",
    "    temp_df = df[df['date'] == date]\n",
    "    temp_df = temp_df.sort_values(by='frame')\n",
    "    images = []\n",
    "    for _, row in temp_df.iterrows():\n",
    "        # img = Image.open(base_path + row['filename'])\n",
    "        img = cv2.imread(base_path + row['filename'])\n",
    "        height, width, layers = img.shape \n",
    "        images.append(img)\n",
    "    video = cv2.VideoWriter(date + \".avi\", 0, 1, (width, height)) \n",
    "    for image in images:\n",
    "        video.write(image)\n",
    "    cv2.destroyAllWindows() \n",
    "    video.release()"
   ]
  },
  {
   "cell_type": "code",
   "execution_count": 33,
   "metadata": {},
   "outputs": [],
   "source": [
    "mean_height = 0\n",
    "mean_width = 0\n",
    "  \n",
    "num_of_images = len(os.listdir(base_path))\n",
    "# print(num_of_images)\n",
    "  \n",
    "for file in os.listdir(base_path):\n",
    "    im = Image.open(os.path.join(base_path, file))\n",
    "    width, height = im.size\n",
    "    mean_width += width\n",
    "    mean_height += height\n",
    "    # im.show()   # uncomment this for displaying the image\n",
    "  \n",
    "# Finding the mean height and width of all images.\n",
    "# This is required because the video frame needs\n",
    "# to be set with same width and height. Otherwise\n",
    "# images not equal to that width height will not get \n",
    "# embedded into the video\n",
    "mean_width = int(mean_width / num_of_images)\n",
    "mean_height = int(mean_height / num_of_images)"
   ]
  }
 ],
 "metadata": {
  "kernelspec": {
   "display_name": "Python 3.8.10 64-bit",
   "language": "python",
   "name": "python3"
  },
  "language_info": {
   "codemirror_mode": {
    "name": "ipython",
    "version": 3
   },
   "file_extension": ".py",
   "mimetype": "text/x-python",
   "name": "python",
   "nbconvert_exporter": "python",
   "pygments_lexer": "ipython3",
   "version": "3.8.10"
  },
  "orig_nbformat": 4,
  "vscode": {
   "interpreter": {
    "hash": "916dbcbb3f70747c44a77c7bcd40155683ae19c65e1c03b4aa3499c5328201f1"
   }
  }
 },
 "nbformat": 4,
 "nbformat_minor": 2
}
